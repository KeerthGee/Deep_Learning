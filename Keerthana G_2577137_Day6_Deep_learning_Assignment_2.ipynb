{
 "cells": [
  {
   "cell_type": "markdown",
   "id": "d679111d",
   "metadata": {},
   "source": [
    "# 2. Build a Multiclass image classification model with InceptionV3 and Mobilenet network"
   ]
  },
  {
   "cell_type": "code",
   "execution_count": 32,
   "id": "235ac33c",
   "metadata": {},
   "outputs": [],
   "source": [
    "import tensorflow as tf\n",
    "from tensorflow.keras.preprocessing.image import ImageDataGenerator\n",
    "from tensorflow.keras.applications import InceptionV3, MobileNet\n",
    "from tensorflow.keras.models import Sequential\n",
    "from tensorflow.keras.layers import Dense, GlobalAveragePooling2D\n",
    "import math"
   ]
  },
  {
   "cell_type": "code",
   "execution_count": 33,
   "id": "b72c5ba8",
   "metadata": {},
   "outputs": [],
   "source": [
    "# Set random seed for reproducibility\n",
    "tf.random.set_seed(42)"
   ]
  },
  {
   "cell_type": "code",
   "execution_count": 42,
   "id": "f2279d96",
   "metadata": {},
   "outputs": [],
   "source": [
    "# Define parameters\n",
    "batch_size = 32\n",
    "image_size = (224, 224)\n",
    "epochs = 10\n",
    "num_classes = 2  # Adjust this based on the number of classes in your dataset"
   ]
  },
  {
   "cell_type": "code",
   "execution_count": 44,
   "id": "5dc7d765",
   "metadata": {},
   "outputs": [
    {
     "name": "stdout",
     "output_type": "stream",
     "text": [
      "Found 1619 images belonging to 2 classes.\n",
      "Found 404 images belonging to 2 classes.\n"
     ]
    }
   ],
   "source": [
    "# Data preprocessing\n",
    "train_datagen = ImageDataGenerator(\n",
    "    rescale=1./255,\n",
    "    shear_range=0.2,\n",
    "    zoom_range=0.2,\n",
    "    horizontal_flip=True,\n",
    "    validation_split=0.2\n",
    ")\n",
    "\n",
    "train_generator = train_datagen.flow_from_directory(\n",
    "    'C:/Users/ADMIN/Documents/CNN_files/Test',\n",
    "    target_size=image_size,\n",
    "    batch_size=batch_size,\n",
    "    class_mode='categorical',\n",
    "    subset='training'\n",
    ")\n",
    "\n",
    "validation_generator = train_datagen.flow_from_directory(\n",
    "    'C:/Users/ADMIN/Documents/CNN_files/Test',\n",
    "    target_size=image_size,\n",
    "    batch_size=batch_size,\n",
    "    class_mode='categorical',\n",
    "    subset='validation'\n",
    ")"
   ]
  },
  {
   "cell_type": "code",
   "execution_count": 45,
   "id": "bb81e836",
   "metadata": {},
   "outputs": [],
   "source": [
    "# Create InceptionV3 model with pre-trained weights (you can use MobileNet as well)\n",
    "base_model = InceptionV3(weights='imagenet', include_top=False, input_shape=(224, 224, 3))"
   ]
  },
  {
   "cell_type": "code",
   "execution_count": 46,
   "id": "c2acaf01",
   "metadata": {},
   "outputs": [],
   "source": [
    "# Add custom classification head\n",
    "model = Sequential()\n",
    "model.add(base_model)\n",
    "model.add(GlobalAveragePooling2D())\n",
    "model.add(Dense(1024, activation='relu'))\n",
    "model.add(Dense(num_classes, activation='softmax'))"
   ]
  },
  {
   "cell_type": "code",
   "execution_count": 47,
   "id": "494dfb42",
   "metadata": {},
   "outputs": [],
   "source": [
    "# Compile the model\n",
    "model.compile(optimizer='adam', loss='categorical_crossentropy', metrics=['accuracy'])\n"
   ]
  },
  {
   "cell_type": "code",
   "execution_count": 48,
   "id": "7758af4c",
   "metadata": {},
   "outputs": [
    {
     "name": "stdout",
     "output_type": "stream",
     "text": [
      "(32, 2)\n"
     ]
    }
   ],
   "source": [
    "for data_batch, labels_batch in train_generator:\n",
    "    print(labels_batch.shape)\n",
    "    break"
   ]
  },
  {
   "cell_type": "code",
   "execution_count": 49,
   "id": "9783ae3d",
   "metadata": {},
   "outputs": [
    {
     "name": "stdout",
     "output_type": "stream",
     "text": [
      "Epoch 1/10\n",
      "50/50 [==============================] - 579s 11s/step - loss: 0.4352 - accuracy: 0.8500 - val_loss: 36.7468 - val_accuracy: 0.5000\n",
      "Epoch 2/10\n",
      "50/50 [==============================] - 591s 12s/step - loss: 0.1971 - accuracy: 0.9256 - val_loss: 1.4321 - val_accuracy: 0.6172\n",
      "Epoch 3/10\n",
      "50/50 [==============================] - 528s 11s/step - loss: 0.1396 - accuracy: 0.9452 - val_loss: 42.4380 - val_accuracy: 0.4870\n",
      "Epoch 4/10\n",
      "50/50 [==============================] - 522s 10s/step - loss: 0.1586 - accuracy: 0.9376 - val_loss: 1.0229 - val_accuracy: 0.8490\n",
      "Epoch 5/10\n",
      "50/50 [==============================] - 509s 10s/step - loss: 0.1473 - accuracy: 0.9420 - val_loss: 0.4415 - val_accuracy: 0.7891\n",
      "Epoch 6/10\n",
      "50/50 [==============================] - 508s 10s/step - loss: 0.1384 - accuracy: 0.9490 - val_loss: 0.3786 - val_accuracy: 0.8854\n",
      "Epoch 7/10\n",
      "50/50 [==============================] - 444s 9s/step - loss: 0.1113 - accuracy: 0.9641 - val_loss: 0.2516 - val_accuracy: 0.8828\n",
      "Epoch 8/10\n",
      "50/50 [==============================] - 439s 9s/step - loss: 0.0955 - accuracy: 0.9635 - val_loss: 0.4829 - val_accuracy: 0.7839\n",
      "Epoch 9/10\n",
      "50/50 [==============================] - 419s 8s/step - loss: 0.1104 - accuracy: 0.9584 - val_loss: 0.3004 - val_accuracy: 0.8490\n",
      "Epoch 10/10\n",
      "50/50 [==============================] - 444s 9s/step - loss: 0.0857 - accuracy: 0.9672 - val_loss: 0.3930 - val_accuracy: 0.8802\n"
     ]
    }
   ],
   "source": [
    "# Train the model\n",
    "history = model.fit(\n",
    "    train_generator,\n",
    "    steps_per_epoch=train_generator.samples // batch_size,\n",
    "    epochs=epochs,\n",
    "    validation_data=validation_generator,\n",
    "    validation_steps=validation_generator.samples // batch_size\n",
    ")"
   ]
  },
  {
   "cell_type": "code",
   "execution_count": 51,
   "id": "d4067737",
   "metadata": {},
   "outputs": [],
   "source": [
    "# Save the model\n",
    "model.save('multiclass_classification_model.h5')\n"
   ]
  },
  {
   "cell_type": "code",
   "execution_count": 52,
   "id": "1d16317a",
   "metadata": {},
   "outputs": [
    {
     "name": "stdout",
     "output_type": "stream",
     "text": [
      "13/13 [==============================] - 21s 2s/step - loss: 0.3292 - accuracy: 0.9035\n",
      "Validation Loss: 0.3292378783226013, Validation Accuracy: 0.9034653306007385\n"
     ]
    }
   ],
   "source": [
    "# Evaluate the model\n",
    "loss, accuracy = model.evaluate(validation_generator)\n",
    "print(f'Validation Loss: {loss}, Validation Accuracy: {accuracy}')"
   ]
  }
 ],
 "metadata": {
  "kernelspec": {
   "display_name": "Python 3 (ipykernel)",
   "language": "python",
   "name": "python3"
  },
  "language_info": {
   "codemirror_mode": {
    "name": "ipython",
    "version": 3
   },
   "file_extension": ".py",
   "mimetype": "text/x-python",
   "name": "python",
   "nbconvert_exporter": "python",
   "pygments_lexer": "ipython3",
   "version": "3.11.4"
  }
 },
 "nbformat": 4,
 "nbformat_minor": 5
}
